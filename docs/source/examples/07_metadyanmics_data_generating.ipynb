{
 "cells": [
  {
   "cell_type": "markdown",
   "metadata": {},
   "source": [
    "# Generating Training Data using Metadynamics"
   ]
  },
  {
   "cell_type": "markdown",
   "metadata": {},
   "source": [
    "Enhanced sampling methods like metadynamics and umbrella sampling allow the generation of more diverse datasets for training machine-learned interatomic potentials (MLIPs). These methods accelerate the exploration of configuration space by overcoming energy barriers more efficiently than traditional molecular dynamics (MD) simulations.\n",
    "\n",
    "In IPSuite, these enhanced sampling techniques are implemented using the open-source software PLUMED."
   ]
  },
  {
   "cell_type": "markdown",
   "metadata": {},
   "source": [
    "Metadynamics relies on the selection of collective variables (CVs) to characterize the relevant configuration space. These CVs can be defined in a PLUMED input file or passed directly as a list of strings via this node."
   ]
  },
  {
   "cell_type": "markdown",
   "metadata": {},
   "source": [
    "In this example, we will construct a system of alanine dipeptide and bias the trosion angles $\\psi$ and $\\phi$ using metadynamics and use the MACE-MP0 model for all calculations."
   ]
  },
  {
   "cell_type": "markdown",
   "metadata": {},
   "source": [
    "To use this IPSuite node, please install the latest PLUMED version by following the installation instructions or using conda `conda install -c conda-forge py-plumed`"
   ]
  },
  {
   "cell_type": "code",
   "execution_count": 1,
   "metadata": {},
   "outputs": [
    {
     "name": "stdout",
     "output_type": "stream",
     "text": [
      "2025-04-03 10:38:18,749 (DEBUG): Welcome to IPS - the Interatomic Potential Suite!\n"
     ]
    },
    {
     "name": "stderr",
     "output_type": "stream",
     "text": [
      "/tikhome/jpeters/miniconda3/envs/hiwi/lib/python3.11/site-packages/e3nn/o3/_wigner.py:10: UserWarning: Environment variable TORCH_FORCE_NO_WEIGHTS_ONLY_LOAD detected, since the`weights_only` argument was not explicitly passed to `torch.load`, forcing weights_only=False.\n",
      "  _Jd, _W3j_flat, _W3j_indices = torch.load(os.path.join(os.path.dirname(__file__), 'constants.pt'))\n"
     ]
    },
    {
     "name": "stdout",
     "output_type": "stream",
     "text": [
      "cuequivariance or cuequivariance_torch is not available. Cuequivariance acceleration will be disabled.\n",
      "\n",
      "        You're using the MACE-MP-0 model. The model is released under the MIT license.\n",
      "        Note:\n",
      "        If you are using this model, please cite the relevant paper for the Materials Project,\n",
      "        any paper associated with the MACE model, and also the following:\n",
      "        - MACE-Universal by Yuan Chiang, 2023, Hugging Face, Revision e5ebd9b,\n",
      "            DOI: 10.57967/hf/1202, URL: https://huggingface.co/cyrusyc/mace-universal\n",
      "        - Matbench Discovery by Janosh Riebesell, Rhys EA Goodall, Philipp Benner, Yuan Chiang,\n",
      "            Alpha A Lee, Anubhav Jain, Kristin A Persson, 2023, arXiv:2308.14920\n",
      "        - https://arxiv.org/abs/2401.00096\n",
      "           \n"
     ]
    }
   ],
   "source": [
    "import mace_models\n",
    "from ase import units\n",
    "\n",
    "import ipsuite as ips\n",
    "\n",
    "project = ips.Project(remove_existing_tree=True)\n",
    "mace = mace_models.load()"
   ]
  },
  {
   "cell_type": "markdown",
   "metadata": {},
   "source": [
    "Firstly we need to create of Box containing a molecule of alanine dipeptide and then optimize the geometry to start with a relaxed structure."
   ]
  },
  {
   "cell_type": "code",
   "execution_count": 3,
   "metadata": {},
   "outputs": [],
   "source": [
    "with project.group(\"System_Creation\"):\n",
    "    mol = ips.Smiles2Atoms(smiles=\"CNC(=O)[C@H](C)NC(C)=O\")\n",
    "    geoopt = ips.ASEGeoOpt(\n",
    "        data=mol.frames, model=mace, optimizer=\"FIRE\", run_kwargs={\"fmax\": 0.05}\n",
    "    )"
   ]
  },
  {
   "cell_type": "markdown",
   "metadata": {},
   "source": [
    "Now we can initialize the plumed calculator"
   ]
  },
  {
   "cell_type": "code",
   "execution_count": null,
   "metadata": {},
   "outputs": [],
   "source": [
    "thermostat = ips.LangevinThermostat(\n",
    "    time_step=0.5 * units.fs,\n",
    "    temperature=300,\n",
    "    friction=0.5 / units.fs,\n",
    ")\n",
    "\n",
    "setup = [\n",
    "    \"FLUSH STRIDE=10000\",\n",
    "    \"phi: TORSION ATOMS=8,7,5,3\",\n",
    "    \"psi: TORSION ATOMS=7,5,3,2\",\n",
    "    (\n",
    "        \"restraint: METAD ARG=phi,psi \"\n",
    "        \"SIGMA=0.35,0.35 HEIGHT=1.2 BIASFACTOR=8 PACE=400 \"\n",
    "        \"FILE=data/HILLS GRID_MIN=-pi,-pi GRID_MAX=pi,pi\"\n",
    "    ),\n",
    "    \"PRINT ARG=phi,psi FILE=data/COLVAR STRIDE=1\",\n",
    "]"
   ]
  },
  {
   "cell_type": "markdown",
   "metadata": {},
   "source": [
    "When setting values in the plumed setup it is important to note that Lengths are in Angstroms, time is in femtoseconds and energy is in kJ/mol. Additionally, when defining atom indices (e.g., `phi: TORSION ATOMS=8,7,5,3`), PLUMED uses 1-based indexing, meaning numbering starts from 1 instead of 0."
   ]
  },
  {
   "cell_type": "code",
   "execution_count": null,
   "metadata": {},
   "outputs": [],
   "source": [
    "with project.group(\"METAD\"):\n",
    "    calc = ips.PlumedCalculator(\n",
    "        model=mace,\n",
    "        data=geoopt.frames,\n",
    "        data_id=-1,\n",
    "        input_string=setup,\n",
    "        timestep=0.5 * units.fs,\n",
    "        temperature=300,\n",
    "    )\n",
    "\n",
    "    md = ips.ASEMD(\n",
    "        model=calc,\n",
    "        data=geoopt.frames,\n",
    "        thermostat=thermostat,\n",
    "        steps=4_000_000,\n",
    "    )"
   ]
  },
  {
   "cell_type": "code",
   "execution_count": 6,
   "metadata": {},
   "outputs": [
    {
     "name": "stdout",
     "output_type": "stream",
     "text": [
      "2025-04-03 10:38:57,732 - INFO: Saving params.yaml\n"
     ]
    },
    {
     "name": "stderr",
     "output_type": "stream",
     "text": [
      "100%|██████████| 6/6 [00:01<00:00,  3.57it/s]\n"
     ]
    }
   ],
   "source": [
    "project.build()"
   ]
  },
  {
   "cell_type": "markdown",
   "metadata": {},
   "source": [
    "For troubleshooting purposes, a copy of the PLUMED setup file is saved in the node's working directory. PLUMED results are stored in the `data/` folder, which includes the COLVAR and HILLS files."
   ]
  }
 ],
 "metadata": {
  "kernelspec": {
   "display_name": "hiwi",
   "language": "python",
   "name": "python3"
  },
  "language_info": {
   "codemirror_mode": {
    "name": "ipython",
    "version": 3
   },
   "file_extension": ".py",
   "mimetype": "text/x-python",
   "name": "python",
   "nbconvert_exporter": "python",
   "pygments_lexer": "ipython3",
   "version": "3.11.11"
  }
 },
 "nbformat": 4,
 "nbformat_minor": 2
}
