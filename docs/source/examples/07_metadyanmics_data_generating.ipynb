{
 "cells": [
  {
   "cell_type": "markdown",
   "metadata": {},
   "source": [
    "# Generating Training Data using Metadynamics"
   ]
  },
  {
   "cell_type": "markdown",
   "metadata": {},
   "source": [
    "Enhanced sampling methods like metadynamics and umbrella sampling allow the generation of more diverse datasets for training machine-learned interatomic potentials (MLIPs). These methods accelerate the exploration of configuration space by overcoming energy barriers more efficiently than traditional molecular dynamics (MD) simulations.\n",
    "\n",
    "In IPSuite, these enhanced sampling techniques are implemented using the open-source software PLUMED."
   ]
  },
  {
   "cell_type": "markdown",
   "metadata": {},
   "source": [
    "Metadynamics relies on the selection of collective variables (CVs) to characterize the relevant configuration space. These CVs can be defined in a PLUMED input file or passed directly as a list of strings via this node."
   ]
  },
  {
   "cell_type": "markdown",
   "metadata": {},
   "source": [
    "In this example, we will construct a system of alanine dipeptide and bias the trosion angles $\\psi$ and $\\phi$ using metadynamics and use the MACE-MP0 model for all calculations."
   ]
  },
  {
   "cell_type": "markdown",
   "metadata": {},
   "source": [
    "To use this IPSuite node, please install the latest PLUMED version by following the installation [instructions](https://www.plumed.org/doc-v2.7/user-doc/html/_installation.html#installingpython) or using conda `conda install -c conda-forge py-plumed`.\n",
    "You might need to `export CC=gcc` and `export CXX=g++` followed by `export PLUMED_KERNEL=/.../plumed2/bin/lib/libplumedKernel.so` for `uv add plumed`."
   ]
  },
  {
   "cell_type": "code",
   "execution_count": 1,
   "metadata": {},
   "outputs": [],
   "source": [
    "# temporary directory for testing\n",
    "import os\n",
    "from pathlib import Path\n",
    "\n",
    "os.chdir(\"/ssd/fzills/tmp\")"
   ]
  },
  {
   "cell_type": "code",
   "execution_count": 2,
   "metadata": {},
   "outputs": [
    {
     "name": "stdout",
     "output_type": "stream",
     "text": [
      "2025-05-19 14:47:30,961 (DEBUG): Welcome to IPS - the Interatomic Potential Suite!\n"
     ]
    }
   ],
   "source": [
    "import ipsuite as ips\n",
    "\n",
    "project = ips.Project()\n",
    "mace = ips.MACEMPModel()"
   ]
  },
  {
   "cell_type": "markdown",
   "metadata": {},
   "source": [
    "Firstly we need to create of Box containing a molecule of alanine dipeptide and then optimize the geometry to start with a relaxed structure."
   ]
  },
  {
   "cell_type": "code",
   "execution_count": 3,
   "metadata": {},
   "outputs": [
    {
     "name": "stderr",
     "output_type": "stream",
     "text": [
      "/data/fzills/tools/ipsuite/.venv/lib/python3.11/site-packages/zntrack/project.py:255: UserWarning: Group name should not contain '_'. Consider using '-' instead for System_Creation.\n",
      "  warnings.warn(\n"
     ]
    }
   ],
   "source": [
    "with project.group(\"System_Creation\"):\n",
    "    mol = ips.Smiles2Atoms(smiles=\"CNC(=O)[C@H](C)NC(C)=O\")\n",
    "    geoopt = ips.ASEGeoOpt(\n",
    "        data=mol.frames, model=mace, optimizer=\"FIRE\", run_kwargs={\"fmax\": 0.05}\n",
    "    )"
   ]
  },
  {
   "cell_type": "markdown",
   "metadata": {},
   "source": [
    "Now we can initialize the plumed calculator"
   ]
  },
  {
   "cell_type": "code",
   "execution_count": 4,
   "metadata": {},
   "outputs": [],
   "source": [
    "thermostat = ips.LangevinThermostat(\n",
    "    time_step=0.5,\n",
    "    temperature=300,\n",
    "    friction=0.01,\n",
    ")\n",
    "\n",
    "FILE = \"\"\"\n",
    "FLUSH STRIDE=10000\n",
    "phi: TORSION ATOMS=8,7,5,3\n",
    "psi: TORSION ATOMS=7,5,3,2\n",
    "restraint: METAD ARG=phi,psi SIGMA=0.35,0.35 HEIGHT=1.2 BIASFACTOR=8 \\\n",
    "           PACE=400 FILE=HILLS GRID_MIN=-pi,-pi GRID_MAX=pi,pi\n",
    "PRINT ARG=phi,psi FILE=COLVAR STRIDE=1\n",
    "\"\"\"\n",
    "with Path(\"plumed.dat\").open(\"w\") as f:\n",
    "    f.write(FILE)"
   ]
  },
  {
   "cell_type": "markdown",
   "metadata": {},
   "source": [
    "When setting values in the plumed setup it is important to note that Lengths are in Angstroms, time is in femtoseconds and energy is in kJ/mol. Additionally, when defining atom indices (e.g., `phi: TORSION ATOMS=8,7,5,3`), PLUMED uses 1-based indexing, meaning numbering starts from 1 instead of 0."
   ]
  },
  {
   "cell_type": "code",
   "execution_count": 5,
   "metadata": {},
   "outputs": [],
   "source": [
    "with project.group(\"METAD\"):\n",
    "    calc = ips.PlumedModel(\n",
    "        model=mace,\n",
    "        data=geoopt.frames,\n",
    "        data_id=-1,\n",
    "        config=\"plumed.dat\",\n",
    "        timestep=0.5,\n",
    "        temperature=300,\n",
    "    )\n",
    "\n",
    "    md = ips.ASEMD(\n",
    "        model=calc,\n",
    "        data=geoopt.frames,\n",
    "        thermostat=thermostat,\n",
    "        steps=4_000_000,\n",
    "    )"
   ]
  },
  {
   "cell_type": "code",
   "execution_count": 6,
   "metadata": {},
   "outputs": [
    {
     "name": "stdout",
     "output_type": "stream",
     "text": [
      "2025-05-19 14:47:31,341 - INFO: Saving params.yaml\n"
     ]
    },
    {
     "name": "stderr",
     "output_type": "stream",
     "text": [
      "100%|██████████| 4/4 [00:00<00:00, 230.18it/s]\n"
     ]
    }
   ],
   "source": [
    "project.build()"
   ]
  },
  {
   "cell_type": "markdown",
   "metadata": {},
   "source": [
    "For troubleshooting purposes, a copy of the PLUMED setup file is saved in the node's working directory. PLUMED results are stored in the `data/` folder, which includes the COLVAR and HILLS files."
   ]
  }
 ],
 "metadata": {
  "kernelspec": {
   "display_name": ".venv",
   "language": "python",
   "name": "python3"
  },
  "language_info": {
   "codemirror_mode": {
    "name": "ipython",
    "version": 3
   },
   "file_extension": ".py",
   "mimetype": "text/x-python",
   "name": "python",
   "nbconvert_exporter": "python",
   "pygments_lexer": "ipython3",
   "version": "3.11.11"
  }
 },
 "nbformat": 4,
 "nbformat_minor": 2
}
