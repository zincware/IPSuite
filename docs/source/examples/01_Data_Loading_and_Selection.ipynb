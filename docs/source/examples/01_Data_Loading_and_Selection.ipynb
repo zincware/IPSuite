{
 "cells": [
  {
   "attachments": {},
   "cell_type": "markdown",
   "metadata": {},
   "source": [
    "# Data Loading and Selection"
   ]
  },
  {
   "attachments": {},
   "cell_type": "markdown",
   "metadata": {},
   "source": [
    "Welcome to the first IPS example notebook!\n",
    "Here we will demonstrate how to load existing datasets and perform some simple and more involved data splitting workflows.\n",
    "\n",
    "All examples are self-contained, and the data is created within the notebooks themselves."
   ]
  },
  {
   "cell_type": "code",
   "execution_count": 1,
   "metadata": {},
   "outputs": [
    {
     "name": "stdout",
     "output_type": "stream",
     "text": [
      "2023-05-31 23:10:07,791 (DEBUG): Welcome to IPS - the Interatomic Potential Suite!\n"
     ]
    }
   ],
   "source": [
    "import ipsuite as ips\n",
    "from zntrack.utils import cwd_temp_dir\n",
    "\n",
    "temp_dir = cwd_temp_dir()\n",
    "\n",
    "import ipsuite as ips\n",
    "\n",
    "import os\n",
    "from ase import units\n",
    "from ase.calculators.emt import EMT\n",
    "from ase.io.trajectory import TrajectoryWriter\n",
    "from ase.lattice.cubic import FaceCenteredCubic\n",
    "from ase.md.velocitydistribution import MaxwellBoltzmannDistribution\n",
    "from ase.md.langevin import Langevin\n",
    "from ase.visualize import view\n"
   ]
  },
  {
   "cell_type": "code",
   "execution_count": 2,
   "metadata": {},
   "outputs": [
    {
     "name": "stdout",
     "output_type": "stream",
     "text": [
      "hint: Using 'master' as the name for the initial branch. This default branch name\n",
      "hint: is subject to change. To configure the initial branch name to use in all\n",
      "hint: of your new repositories, which will suppress this warning, call:\n",
      "hint: \n",
      "hint: \tgit config --global init.defaultBranch <name>\n",
      "hint: \n",
      "hint: Names commonly chosen instead of 'master' are 'main', 'trunk' and\n",
      "hint: 'development'. The just-created branch can be renamed via this command:\n",
      "hint: \n",
      "hint: \tgit branch -m <name>\n",
      "Initialized empty Git repository in /tmp/tmpok_da3k5/.git/\n",
      "Initialized DVC repository.\n",
      "\n",
      "You can now commit the changes to git.\n",
      "\n",
      "+---------------------------------------------------------------------+\n",
      "|                                                                     |\n",
      "|        DVC has enabled anonymous aggregate usage analytics.         |\n",
      "|     Read the analytics documentation (and how to opt-out) here:     |\n",
      "|             <https://dvc.org/doc/user-guide/analytics>              |\n",
      "|                                                                     |\n",
      "+---------------------------------------------------------------------+\n",
      "\n",
      "What's next?\n",
      "------------\n",
      "- Check out the documentation: <https://dvc.org/doc>\n",
      "- Get help and share ideas: <https://dvc.org/chat>\n",
      "- Star us on GitHub: <https://github.com/iterative/dvc>\n"
     ]
    }
   ],
   "source": [
    "!git init\n",
    "!dvc init"
   ]
  },
  {
   "attachments": {},
   "cell_type": "markdown",
   "metadata": {},
   "source": [
    "## Data Creation\n",
    "\n",
    "First, we will create some sample data using ASE to perform a short molecular dynamics simulation.\n",
    "\n",
    "TODO make data and run MD\n",
    "TODO combining multiple datasets"
   ]
  },
  {
   "cell_type": "code",
   "execution_count": 3,
   "metadata": {},
   "outputs": [],
   "source": [
    "size = 3\n",
    "\n",
    "# Set up a crystal\n",
    "atoms = FaceCenteredCubic(\n",
    "    directions=[[1, 0, 0], [0, 1, 0], [0, 0, 1]],\n",
    "    symbol='Cu',\n",
    "    size=(size, size, size),\n",
    "    pbc=True\n",
    ")\n"
   ]
  },
  {
   "cell_type": "code",
   "execution_count": 4,
   "metadata": {},
   "outputs": [
    {
     "data": {
      "text/plain": [
       "True"
      ]
     },
     "execution_count": 4,
     "metadata": {},
     "output_type": "execute_result"
    }
   ],
   "source": [
    "timestep = 5 * units.fs\n",
    "steps = 100\n",
    "temperature = 800\n",
    "traj_path = os.path.join(temp_dir.name, \"trajectory.traj\")\n",
    "\n",
    "\n",
    "atoms.calc = EMT()\n",
    "MaxwellBoltzmannDistribution(atoms, temperature_K=temperature)\n",
    "\n",
    "dyn = Langevin(atoms, timestep, temperature_K=temperature, friction=0.002)\n",
    "\n",
    "writer = TrajectoryWriter(traj_path, \"w\", atoms=atoms)\n",
    "dyn.attach(writer, interval=1)\n",
    "\n",
    "dyn.run(steps)"
   ]
  },
  {
   "attachments": {},
   "cell_type": "markdown",
   "metadata": {},
   "source": [
    "## Data Loading\n",
    "\n",
    "IPS uses ASE for many of its internals and datasets can be loaded from any ASE compatible format.\n",
    "Here we are going to pretend that the above created sample data is some literature dataset that we have already downloaded."
   ]
  },
  {
   "cell_type": "code",
   "execution_count": 5,
   "metadata": {},
   "outputs": [
    {
     "name": "stdout",
     "output_type": "stream",
     "text": [
      "2023-05-31 23:10:17,739 (WARNING): Please run 'dvc add /tmp/tmpok_da3k5/trajectory.traj' to track the file with DVC. Otherwise, it might end up being git tracked.\n"
     ]
    },
    {
     "name": "stderr",
     "output_type": "stream",
     "text": [
      "Running DVC command: 'stage add --name trajectory --force ...'\n",
      "Running DVC command: 'repro'\n"
     ]
    },
    {
     "name": "stdout",
     "output_type": "stream",
     "text": [
      "2023-05-31 23:10:19,001 (DEBUG): Welcome to IPS - the Interatomic Potential Suite!\n"
     ]
    },
    {
     "name": "stderr",
     "output_type": "stream",
     "text": [
      "Reading File: 101it [00:00, 3355.28it/s]\n"
     ]
    }
   ],
   "source": [
    "with ips.Project() as project:\n",
    "    trajectory = ips.AddData(file=traj_path, name=\"trajectory\")\n",
    "project.run()"
   ]
  },
  {
   "attachments": {},
   "cell_type": "markdown",
   "metadata": {},
   "source": [
    "The data is read from disk and is now available to both other Nodes in the project and for use in the notebook."
   ]
  },
  {
   "cell_type": "code",
   "execution_count": 6,
   "metadata": {},
   "outputs": [],
   "source": [
    "trajectory.load() # requires the project to have been run"
   ]
  },
  {
   "attachments": {},
   "cell_type": "markdown",
   "metadata": {},
   "source": [
    "We obtain a list of ASE Atoms, with which we can work in our notebook and use other ASE functionality, e.g.:"
   ]
  },
  {
   "cell_type": "code",
   "execution_count": null,
   "metadata": {},
   "outputs": [],
   "source": [
    "view(trajectory)"
   ]
  },
  {
   "attachments": {},
   "cell_type": "markdown",
   "metadata": {},
   "source": [
    "The H5MD standard offers substantial size and I/O speed advantages.\n",
    "For this reason H5MD is used by Nodes which serialize atomistic data, including `AddData`."
   ]
  },
  {
   "attachments": {},
   "cell_type": "markdown",
   "metadata": {},
   "source": [
    "## Data Selection\n",
    "\n",
    "A common way to split data into training, validation and test splits is to randomly partition them into fractions like 75:15:10.\n",
    "We can add the respective selection Nodes to our existing project."
   ]
  },
  {
   "cell_type": "code",
   "execution_count": 7,
   "metadata": {},
   "outputs": [
    {
     "name": "stderr",
     "output_type": "stream",
     "text": [
      "Running DVC command: 'stage add --name trajectory --force ...'\n",
      "Running DVC command: 'stage add --name random_test_selection --force ...'\n",
      "Running DVC command: 'stage add --name random_val_selection --force ...'\n",
      "Running DVC command: 'stage add --name random_train_selection --force ...'\n",
      "Running DVC command: 'repro'\n"
     ]
    },
    {
     "name": "stdout",
     "output_type": "stream",
     "text": [
      "2023-05-31 23:10:20,899 (DEBUG): Welcome to IPS - the Interatomic Potential Suite!\n",
      "2023-05-31 23:10:21,047 (DEBUG): Selecting from 101 configurations.\n",
      "2023-05-31 23:10:22,301 (DEBUG): Welcome to IPS - the Interatomic Potential Suite!\n",
      "2023-05-31 23:10:22,491 (DEBUG): Selecting from 91 configurations.\n",
      "2023-05-31 23:10:23,804 (DEBUG): Welcome to IPS - the Interatomic Potential Suite!\n",
      "2023-05-31 23:10:24,044 (DEBUG): Selecting from 76 configurations.\n"
     ]
    }
   ],
   "source": [
    "with project:\n",
    "    random_test_selection = ips.configuration_selection.RandomSelection(data=trajectory, n_configurations=10, name=\"random_test_selection\")\n",
    "    random_val_selection = ips.configuration_selection.RandomSelection(data=random_test_selection.excluded_atoms, n_configurations=15, name=\"random_val_selection\")\n",
    "    random_train_selection = ips.configuration_selection.RandomSelection(data=random_val_selection.excluded_atoms, n_configurations=75, name=\"random_train_selection\")\n",
    "project.run()"
   ]
  },
  {
   "attachments": {},
   "cell_type": "markdown",
   "metadata": {},
   "source": [
    "Selecting the testing data first means we can change our training and validation selection, e.g. by using a different selection method or a different number of configurations, without altering our test set.\n",
    "Note that we had to give names to our selection nodes since we use multiple instances of that Node in our graph.\n",
    "For convenience, it is also possible to assign numerical IDs by supplying `automatic_node_names=True` to the `Project`."
   ]
  },
  {
   "attachments": {},
   "cell_type": "markdown",
   "metadata": {},
   "source": [
    "We can visualize our workflow at any time using"
   ]
  },
  {
   "cell_type": "code",
   "execution_count": 8,
   "metadata": {},
   "outputs": [
    {
     "name": "stdout",
     "output_type": "stream",
     "text": [
      "      +------------+       \n",
      "      | trajectory |       \n",
      "      +------------+       \n",
      "             *             \n",
      "             *             \n",
      "             *             \n",
      "+-----------------------+  \n",
      "| random_test_selection |  \n",
      "+-----------------------+  \n",
      "             *             \n",
      "             *             \n",
      "             *             \n",
      " +----------------------+  \n",
      " | random_val_selection |  \n",
      " +----------------------+  \n",
      "             *             \n",
      "             *             \n",
      "             *             \n",
      "+------------------------+ \n",
      "| random_train_selection | \n",
      "+------------------------+ \n"
     ]
    }
   ],
   "source": [
    "!dvc dag"
   ]
  },
  {
   "attachments": {},
   "cell_type": "markdown",
   "metadata": {},
   "source": [
    "While straightforward, this is not necessarily advisable for molecular dynamics data.\n",
    "Trajectories are created sequentially, and a random split will result in validation samples that are drawn from between training samples.\n",
    "By instead separating the dataset into fixed fraction first, we can ensure that the splits do not temporally overlap.\n",
    "\n",
    "For demonstration purposes, we will delete the random splitting workflow we created above with `remove_existing_graph=True`."
   ]
  },
  {
   "cell_type": "code",
   "execution_count": 9,
   "metadata": {},
   "outputs": [
    {
     "name": "stdout",
     "output_type": "stream",
     "text": [
      "2023-05-31 23:11:14,183 (WARNING): Please run 'dvc add /tmp/tmpok_da3k5/trajectory.traj' to track the file with DVC. Otherwise, it might end up being git tracked.\n"
     ]
    },
    {
     "name": "stderr",
     "output_type": "stream",
     "text": [
      "Running DVC command: 'stage add --name trajectory --force ...'\n",
      "Running DVC command: 'stage add --name test_split --force ...'\n",
      "Running DVC command: 'stage add --name val_split --force ...'\n",
      "Running DVC command: 'stage add --name test_data --force ...'\n",
      "Running DVC command: 'stage add --name val_data --force ...'\n",
      "Running DVC command: 'stage add --name train_data --force ...'\n",
      "Running DVC command: 'repro'\n"
     ]
    },
    {
     "name": "stdout",
     "output_type": "stream",
     "text": [
      "2023-05-31 23:11:15,722 (DEBUG): Welcome to IPS - the Interatomic Potential Suite!\n",
      "2023-05-31 23:11:15,915 (DEBUG): Selecting from 101 configurations.\n",
      "2023-05-31 23:11:17,228 (DEBUG): Welcome to IPS - the Interatomic Potential Suite!\n",
      "2023-05-31 23:11:17,459 (DEBUG): Selecting from 91 configurations.\n",
      "2023-05-31 23:11:18,780 (DEBUG): Welcome to IPS - the Interatomic Potential Suite!\n",
      "2023-05-31 23:11:19,031 (DEBUG): Selecting from 76 configurations.\n",
      "2023-05-31 23:11:19,031 (WARNING): Running search for 80 to max 76\n",
      "2023-05-31 23:11:20,350 (DEBUG): Welcome to IPS - the Interatomic Potential Suite!\n",
      "2023-05-31 23:11:20,561 (DEBUG): Selecting from 10 configurations.\n",
      "2023-05-31 23:11:21,836 (DEBUG): Welcome to IPS - the Interatomic Potential Suite!\n",
      "2023-05-31 23:11:22,081 (DEBUG): Selecting from 15 configurations.\n"
     ]
    }
   ],
   "source": [
    "with ips.Project(remove_existing_graph=True) as project:\n",
    "    trajectory = ips.AddData(file=traj_path, name=\"trajectory\")\n",
    "    test_split = ips.configuration_selection.SplitSelection(data=trajectory, split=0.1, name=\"test_split\")\n",
    "    val_split = ips.configuration_selection.SplitSelection(data=test_split.excluded_atoms, split=0.17, name=\"val_split\") # 0.15 / 0.9 * 1.0 \\approx 0.17\n",
    "    train_split = val_split.excluded_atoms # 0.8 of the total data\n",
    "\n",
    "    test_data = ips.configuration_selection.UniformTemporalSelection(data=test_split, n_configurations=10, name=\"test_data\")\n",
    "    val_data = ips.configuration_selection.UniformTemporalSelection(data=val_split, n_configurations=15, name=\"val_data\")\n",
    "    train_data = ips.configuration_selection.UniformEnergeticSelection(data=train_split, n_configurations=80, name=\"train_data\")\n",
    "\n",
    "project.run()"
   ]
  },
  {
   "attachments": {},
   "cell_type": "markdown",
   "metadata": {},
   "source": [
    "The selection methods here are purely for demonstration purposes.\n",
    "Usually it makes sense to use all available test data and not perform a sub-selection since the test set should only be evaluated once which does not pose a performance bottleneck."
   ]
  },
  {
   "cell_type": "code",
   "execution_count": 10,
   "metadata": {},
   "outputs": [
    {
     "name": "stdout",
     "output_type": "stream",
     "text": [
      "            +------------+                          \n",
      "            | trajectory |                          \n",
      "            +------------+                          \n",
      "                   *                                \n",
      "                   *                                \n",
      "                   *                                \n",
      "            +------------+                          \n",
      "            | test_split |                          \n",
      "            +------------+                          \n",
      "            ***         ***                         \n",
      "           *               *                        \n",
      "         **                 **                      \n",
      "+-----------+            +-----------+              \n",
      "| test_data |            | val_split |              \n",
      "+-----------+            +-----------+              \n",
      "                        ***          ***            \n",
      "                       *                *           \n",
      "                     **                  **         \n",
      "             +----------+            +------------+ \n",
      "             | val_data |            | train_data | \n",
      "             +----------+            +------------+ \n"
     ]
    }
   ],
   "source": [
    "!dvc dag"
   ]
  },
  {
   "attachments": {},
   "cell_type": "markdown",
   "metadata": {},
   "source": [
    "Below is a list of all currently implemented selection methods.\n",
    "Check out the API docs for more information about the methods not covered here."
   ]
  },
  {
   "cell_type": "code",
   "execution_count": 2,
   "metadata": {},
   "outputs": [
    {
     "data": {
      "text/plain": [
       "['ConfigurationSelection',\n",
       " 'RandomSelection',\n",
       " 'UniformEnergeticSelection',\n",
       " 'UniformTemporalSelection',\n",
       " 'UniformArangeSelection',\n",
       " 'KernelSelection',\n",
       " 'IndexSelection',\n",
       " 'ThresholdSelection',\n",
       " 'SplitSelection']"
      ]
     },
     "execution_count": 2,
     "metadata": {},
     "output_type": "execute_result"
    }
   ],
   "source": [
    "ips.configuration_selection.__all__"
   ]
  },
  {
   "attachments": {},
   "cell_type": "markdown",
   "metadata": {},
   "source": [
    "## Kernel Based Selection Methods"
   ]
  },
  {
   "attachments": {},
   "cell_type": "markdown",
   "metadata": {},
   "source": []
  },
  {
   "cell_type": "code",
   "execution_count": null,
   "metadata": {},
   "outputs": [],
   "source": [
    "# TODO"
   ]
  },
  {
   "cell_type": "code",
   "execution_count": null,
   "metadata": {},
   "outputs": [],
   "source": [
    "temp_dir.cleanup()"
   ]
  }
 ],
 "metadata": {
  "kernelspec": {
   "display_name": "ips2",
   "language": "python",
   "name": "python3"
  },
  "language_info": {
   "codemirror_mode": {
    "name": "ipython",
    "version": 3
   },
   "file_extension": ".py",
   "mimetype": "text/x-python",
   "name": "python",
   "nbconvert_exporter": "python",
   "pygments_lexer": "ipython3",
   "version": "3.10.11"
  },
  "orig_nbformat": 4
 },
 "nbformat": 4,
 "nbformat_minor": 2
}
