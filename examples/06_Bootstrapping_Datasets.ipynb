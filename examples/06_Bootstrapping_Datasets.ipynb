{
 "cells": [
  {
   "attachments": {},
   "cell_type": "markdown",
   "metadata": {},
   "source": [
    "# Bootstrapping Datasets"
   ]
  },
  {
   "attachments": {},
   "cell_type": "markdown",
   "metadata": {},
   "source": [
    "In previous examples we assumed that there was a pre-existing dataset available for us to use.\n",
    "This is typically the case when working with literature datasets or if we perform the dataset aquisition with an external (molecular dyamics) program.\n",
    "\n",
    "However, in active learning scenarios one typically starts with a single (unlabeled) configuration. In these cases it is often convenient to bootstrap an initial training set in order to quickly obtain a stable force field with which to drive the sampling.\n",
    "\n",
    "A full active learning example can be found in a later notebook in this series."
   ]
  },
  {
   "attachments": {},
   "cell_type": "markdown",
   "metadata": {},
   "source": [
    "This notebook requires packmol for setting up the initial configuration and the xtb. \n",
    "`xtb-python` and `packmol` are available from conda and can be installed via\n",
    "\n",
    "```bash\n",
    "conda install -c conda-forge xtb-python\n",
    "conda install -c conda-forge packmol\n",
    "```"
   ]
  },
  {
   "cell_type": "code",
   "execution_count": 1,
   "metadata": {},
   "outputs": [
    {
     "name": "stdout",
     "output_type": "stream",
     "text": [
      "2023-05-30 16:18:18,325 (DEBUG): Welcome to IPS - the Interatomic Potential Suite!\n"
     ]
    }
   ],
   "source": [
    "import ipsuite as ips\n",
    "import znflow\n",
    "import matplotlib.pyplot as plt\n",
    "\n",
    "from zntrack.utils import cwd_temp_dir\n",
    "\n",
    "temp_dir = cwd_temp_dir()"
   ]
  },
  {
   "cell_type": "code",
   "execution_count": 3,
   "metadata": {},
   "outputs": [
    {
     "name": "stdout",
     "output_type": "stream",
     "text": [
      "hint: Using 'master' as the name for the initial branch. This default branch name\n",
      "hint: is subject to change. To configure the initial branch name to use in all\n",
      "hint: of your new repositories, which will suppress this warning, call:\n",
      "hint: \n",
      "hint: \tgit config --global init.defaultBranch <name>\n",
      "hint: \n",
      "hint: Names commonly chosen instead of 'master' are 'main', 'trunk' and\n",
      "hint: 'development'. The just-created branch can be renamed via this command:\n",
      "hint: \n",
      "hint: \tgit branch -m <name>\n",
      "Initialized empty Git repository in /tmp/tmp8k077isy/.git/\n",
      "Initialized DVC repository.\n",
      "\n",
      "You can now commit the changes to git.\n",
      "\n",
      "+---------------------------------------------------------------------+\n",
      "|                                                                     |\n",
      "|        DVC has enabled anonymous aggregate usage analytics.         |\n",
      "|     Read the analytics documentation (and how to opt-out) here:     |\n",
      "|             <https://dvc.org/doc/user-guide/analytics>              |\n",
      "|                                                                     |\n",
      "+---------------------------------------------------------------------+\n",
      "\n",
      "What's next?\n",
      "------------\n",
      "- Check out the documentation: <https://dvc.org/doc>\n",
      "- Get help and share ideas: <https://dvc.org/chat>\n",
      "- Star us on GitHub: <https://github.com/iterative/dvc>\n"
     ]
    }
   ],
   "source": [
    "!git init\n",
    "!dvc init"
   ]
  },
  {
   "attachments": {},
   "cell_type": "markdown",
   "metadata": {},
   "source": [
    "We can use packmol to create an initial configuration.\n",
    "Based on this, it is possible to bootstrap datasets using a combination of various methods.\n",
    "Each of them is designed to probe a different seet of degrees of freedom.\n",
    "Random atomic displacements will probe vibrations, while random translations and rotations of molecules, as well as box size scans probe slower degrees of freedom that depend on intermolecular interactions."
   ]
  },
  {
   "cell_type": "code",
   "execution_count": 4,
   "metadata": {},
   "outputs": [
    {
     "name": "stderr",
     "output_type": "stream",
     "text": [
      "Running DVC command: 'stage add --name SmilesToAtoms --force ...'\n",
      "Running DVC command: 'stage add --name Packmol --force ...'\n",
      "Running DVC command: 'stage add --name opt_calc --force ...'\n",
      "Running DVC command: 'stage add --name ASEGeoOpt --force ...'\n",
      "Running DVC command: 'stage add --name RattleAtoms --force ...'\n",
      "Running DVC command: 'stage add --name RotateMolecules --force ...'\n",
      "Running DVC command: 'stage add --name TranslateMolecules --force ...'\n",
      "Running DVC command: 'stage add --name label_calc --force ...'\n",
      "Running DVC command: 'stage add --name BoxScale --force ...'\n",
      "Running DVC command: 'stage add --name BoxScale_mapping --force ...'\n",
      "Could not create .gitignore entry in /tmp/tmp8k077isy/nodes/BoxScale_mapping/.gitignore. DVC will attempt to create .gitignore entry again when the stage is run.\n",
      "Running DVC command: 'stage add --name EnergyHistogram --force ...'\n",
      "Running DVC command: 'stage add --name ForcesHistogram --force ...'\n",
      "Running DVC command: 'repro'\n"
     ]
    },
    {
     "name": "stdout",
     "output_type": "stream",
     "text": [
      "2023-05-30 16:18:20,899 (DEBUG): Welcome to IPS - the Interatomic Potential Suite!\n",
      "2023-05-30 16:18:22,115 (DEBUG): Welcome to IPS - the Interatomic Potential Suite!\n",
      "2023-05-30 16:18:22,296 (INFO): estimated box size: [6.6946734740471925, 6.6946734740471925, 6.6946734740471925]\n",
      "\n",
      "################################################################################\n",
      "\n",
      " PACKMOL - Packing optimization for the automated generation of\n",
      " starting configurations for molecular dynamics simulations.\n",
      " \n",
      "                                                              Version 20.010 \n",
      "\n",
      "################################################################################\n",
      "\n",
      "  Packmol must be run with: packmol < inputfile.inp \n",
      "\n",
      "  Userguide at: http://m3g.iqm.unicamp.br/packmol \n",
      "\n",
      "  Reading input file... (Control-C aborts)\n",
      "  Seed for random number generator:      1234567\n",
      "  Output file: mixture.xyz\n",
      "  Reading coordinate file: 0.xyz\n",
      "  Number of independent structures:            1\n",
      "  The structures are: \n",
      "  Structure            1 :Properties=species:S:1:pos:R:3 pbc=\"F F F\"(           3  atoms)\n",
      "  Maximum number of GENCAN loops for all molecule packing:          200\n",
      "  Total number of restrictions:            1\n",
      "  Distance tolerance:    2.0000000000000000     \n",
      "  Number of molecules of type            1 :           10\n",
      "  Total number of atoms:           30\n",
      "  Total number of molecules:           10\n",
      "  Number of fixed molecules:            0\n",
      "  Number of free molecules:           10\n",
      "  Number of variables:           60\n",
      "  Total number of fixed atoms:            0\n",
      "  Maximum internal distance of type            1 :    1.5660731739637310     \n",
      "  All atoms must be within these coordinates: \n",
      "   x: [   -998.39999999999998      ,    1001.6000000000000       ] \n",
      "   y: [   -999.17727845236561      ,    1000.8227215476344       ] \n",
      "   z: [   -1000.0000000000000      ,    1000.0000000000000       ] \n",
      "  If the system is larger than this, increase the sidemax parameter. \n",
      "\n",
      "################################################################################\n",
      "\n",
      "  Building initial approximation ... \n",
      "\n",
      "################################################################################\n",
      "\n",
      "  Adjusting initial point to fit the constraints \n",
      "\n",
      "--------------------------------------------------------------------------------\n",
      "\n",
      "--------------------------------------------------------------------------------\n",
      "\n",
      "  Molecules of type:            1\n",
      "\n",
      "  Packing:|0                                                             100%|\n",
      "          |*********************\n",
      "\n",
      "  Restraint-only function value:    4.7908344210240500E-005\n",
      "  Maximum violation of the restraints:    3.3276214373314433E-005\n",
      "\n",
      "--------------------------------------------------------------------------------\n",
      "\n",
      "  Rescaling maximum and minimum coordinates... \n",
      "  Computing size of patches... \n",
      "  Add fixed molecules to permanent arrays... \n",
      "  Reseting center of mass... \n",
      "\n",
      "--------------------------------------------------------------------------------\n",
      "\n",
      "  Setting initial trial coordinates ... \n",
      "\n",
      "--------------------------------------------------------------------------------\n",
      "\n",
      "--------------------------------------------------------------------------------\n",
      "\n",
      "  Molecules of type:            1\n",
      "  Adjusting random positions to fit the constraints. \n",
      "  Restraint-only function value:    0.0000000000000000     \n",
      "  Maximum violation of the restraints:    0.0000000000000000     \n",
      "\n",
      "################################################################################\n",
      "\n",
      "  Objective function at initial point:    305.75852348958790     \n",
      "\n",
      "################################################################################\n",
      "\n",
      "  Packing molecules of type:            1\n",
      "\n",
      "################################################################################\n",
      "\n",
      "\n",
      "--------------------------------------------------------------------------------\n",
      "\n",
      "  Starting GENCAN loop:            0\n",
      "  Scaling radii by:    1.1000000000000001     \n",
      "\n",
      "  Packing:|0                                                             100%|\n",
      "          |***********************************\n",
      "\n",
      "  Function value from last GENCAN loop: f = .15568E-04\n",
      "  Best function value before: f = .30576E+03\n",
      "  Improvement from best function value:    99.99 %\n",
      "  Improvement from last loop:    99.99 %\n",
      "  Maximum violation of target distance:     0.000000\n",
      "  Maximum violation of the constraints: .15568E-04\n",
      "  Current structure written to file: mixture.xyz\n",
      "--------------------------------------------------------------------------------\n",
      "  Packing solved for molecules of type           1\n",
      "  Objective function value:    1.5567789525860229E-005\n",
      "  Maximum violation of target distance:    0.0000000000000000     \n",
      "  Max. constraint violation:    1.5567789525860229E-005\n",
      "--------------------------------------------------------------------------------\n",
      "\n",
      "################################################################################\n",
      "\n",
      "  Packing all molecules together \n",
      "\n",
      "################################################################################\n",
      "\n",
      "\n",
      "  Initial approximation is a solution. Nothing to do. \n",
      "\n",
      "  Solution written to file: mixture.xyz\n",
      "\n",
      "################################################################################\n",
      "\n",
      "                                 Success! \n",
      "              Final objective function value: .31847E-01\n",
      "              Maximum violation of target distance:   0.000000\n",
      "              Maximum violation of the constraints: .15568E-04\n",
      "\n",
      "--------------------------------------------------------------------------------\n",
      "\n",
      "              Please cite this work if Packmol was useful: \n",
      "\n",
      "           L. Martinez, R. Andrade, E. G. Birgin, J. M. Martinez, \n",
      "         PACKMOL: A package for building initial configurations for\n",
      "                   molecular dynamics simulations. \n",
      "          Journal of Computational Chemistry, 30:2157-2164,2009.\n",
      "\n",
      "################################################################################\n",
      "\n",
      "   Running time:    5.92000026E-04  seconds. \n",
      "\n",
      "--------------------------------------------------------------------------------\n",
      "\n",
      "\n",
      "2023-05-30 16:18:23,396 (DEBUG): Welcome to IPS - the Interatomic Potential Suite!\n"
     ]
    },
    {
     "name": "stderr",
     "output_type": "stream",
     "text": [
      "100%|██████████| 1/1 [00:00<00:00, 10.92it/s]\n"
     ]
    },
    {
     "name": "stdout",
     "output_type": "stream",
     "text": [
      "2023-05-30 16:18:24,687 (DEBUG): Welcome to IPS - the Interatomic Potential Suite!\n",
      "      Step     Time          Energy         fmax\n",
      "BFGS:    0 16:18:24    -1452.227673      560.1183\n",
      "BFGS:    1 16:18:25    -1525.179018       73.0175\n",
      "BFGS:    2 16:18:25    -1541.432084       26.5437\n",
      "BFGS:    3 16:18:25    -1548.847866       20.9261\n",
      "BFGS:    4 16:18:25    -1553.041573       21.0507\n",
      "BFGS:    5 16:18:25    -1557.985665       14.9412\n",
      "BFGS:    6 16:18:25    -1560.632213        8.3526\n",
      "BFGS:    7 16:18:25    -1562.409822        5.2405\n",
      "BFGS:    8 16:18:25    -1563.889836        4.6672\n",
      "BFGS:    9 16:18:26    -1565.320047       13.2885\n",
      "BFGS:   10 16:18:26    -1566.448285        3.4639\n",
      "BFGS:   11 16:18:26    -1567.953756        4.4025\n",
      "BFGS:   12 16:18:26    -1568.948496        7.1006\n",
      "BFGS:   13 16:18:26    -1569.550374        4.1206\n",
      "BFGS:   14 16:18:26    -1570.227879        2.1917\n",
      "BFGS:   15 16:18:26    -1570.532967        7.2313\n",
      "BFGS:   16 16:18:26    -1570.847957        2.6559\n",
      "BFGS:   17 16:18:27    -1571.138681        1.4818\n",
      "BFGS:   18 16:18:27    -1571.662669        2.2882\n",
      "BFGS:   19 16:18:27    -1571.800839        1.6854\n",
      "BFGS:   20 16:18:27    -1571.956670        0.8907\n",
      "2023-05-30 16:18:28,493 (DEBUG): Welcome to IPS - the Interatomic Potential Suite!\n",
      "2023-05-30 16:18:29,693 (DEBUG): Welcome to IPS - the Interatomic Potential Suite!\n",
      "2023-05-30 16:18:30,954 (DEBUG): Welcome to IPS - the Interatomic Potential Suite!\n",
      "2023-05-30 16:18:31,096 (WARNING): Setting maximum to 2 Pi.\n",
      "2023-05-30 16:18:32,202 (DEBUG): Welcome to IPS - the Interatomic Potential Suite!\n",
      "2023-05-30 16:18:33,349 (DEBUG): Welcome to IPS - the Interatomic Potential Suite!\n"
     ]
    },
    {
     "name": "stderr",
     "output_type": "stream",
     "text": [
      "100%|██████████| 16/16 [00:01<00:00,  8.80it/s]\n"
     ]
    },
    {
     "name": "stdout",
     "output_type": "stream",
     "text": [
      "2023-05-30 16:18:36,564 (DEBUG): Welcome to IPS - the Interatomic Potential Suite!\n"
     ]
    },
    {
     "name": "stderr",
     "output_type": "stream",
     "text": [
      "Could not load field atoms for node BoxScale_mapping.\n",
      "100%|███████████████████████████████████| 5/5 [00:00<00:00,  8.29it/s]\n"
     ]
    },
    {
     "name": "stdout",
     "output_type": "stream",
     "text": [
      "2023-05-30 16:18:38,818 (DEBUG): Welcome to IPS - the Interatomic Potential Suite!\n",
      "2023-05-30 16:18:40,299 (DEBUG): Welcome to IPS - the Interatomic Potential Suite!\n"
     ]
    }
   ],
   "source": [
    "mapping = ips.geometry.BarycenterMapping(data=None)\n",
    "\n",
    "with ips.Project(automatic_node_names=True) as project:\n",
    "    water = ips.configuration_generation.SmilesToAtoms(smiles=\"O\")\n",
    "    packmol = ips.configuration_generation.Packmol(\n",
    "        data=[water.atoms], count=[10], density=997\n",
    "    )\n",
    "\n",
    "    opt_calc = ips.calculators.xTBSinglePoint(data=packmol, method=\"gfn1-xtb\", name=\"opt_calc\")\n",
    "\n",
    "    geopt = ips.calculators.ASEGeoOpt(\n",
    "        model=opt_calc,\n",
    "        data=packmol.atoms,\n",
    "        optimizer=\"BFGS\",\n",
    "        run_kwargs={\"fmax\": 1.0},\n",
    "    )\n",
    "\n",
    "    n_configs = 5\n",
    "    rattle = ips.bootstrap.RattleAtoms(\n",
    "        data=geopt.atoms,\n",
    "        data_id=-1,\n",
    "        n_configurations=n_configs,\n",
    "        maximum=0.08, # Ang max atomic displacement\n",
    "        include_original=True\n",
    "    )\n",
    "    rotate = ips.bootstrap.RotateMolecules(\n",
    "        data=geopt.atoms,\n",
    "        data_id=-1,\n",
    "        n_configurations=n_configs,\n",
    "        maximum=15,  # deg max rotation\n",
    "        include_original=False\n",
    "    )\n",
    "    translate = ips.bootstrap.TranslateMolecules(\n",
    "        data=geopt.atoms,\n",
    "        data_id=-1,\n",
    "        n_configurations=n_configs,\n",
    "        maximum=0.3, # Ang max molecular displacement\n",
    "        include_original=False\n",
    "    )\n",
    "\n",
    "    bootstrap_configurations = rattle.atoms + rotate.atoms + translate.atoms\n",
    "\n",
    "    labeling_calc = ips.calculators.xTBSinglePoint(data=bootstrap_configurations, method=\"gfn1-xtb\", name=\"label_calc\")\n",
    "    volume_scan = ips.analysis.BoxScale(\n",
    "        data=rattle.atoms,\n",
    "        data_id=0,\n",
    "        model=labeling_calc,\n",
    "        mapping=mapping,\n",
    "        start=0.8,\n",
    "        stop=1.5,\n",
    "        num=5,\n",
    "    )\n",
    "    bootstrap_dataset = znflow.combine([labeling_calc, volume_scan], attribute=\"atoms\")\n",
    "\n",
    "    energy_hist = ips.analysis.EnergyHistogram(data=bootstrap_dataset, bins=10)\n",
    "    forces_hist = ips.analysis.ForcesHistogram(data=bootstrap_dataset, bins=10)\n",
    "\n",
    "project.run()"
   ]
  },
  {
   "attachments": {},
   "cell_type": "markdown",
   "metadata": {},
   "source": [
    "Lets inspect the label distribution of our new dataset.\n",
    "While they produce a plot in the respective `nodes` subdirectory, we will recreate them here to view them from within the notebook.\n",
    "\n",
    "In order to do that, we first have to load the histogram nodes.\n",
    "Then we can create simple histogram with matplotlib.\n"
   ]
  },
  {
   "cell_type": "code",
   "execution_count": 5,
   "metadata": {},
   "outputs": [],
   "source": [
    "energy_hist.load()\n",
    "forces_hist.load()"
   ]
  },
  {
   "cell_type": "code",
   "execution_count": 6,
   "metadata": {},
   "outputs": [
    {
     "data": {
      "image/png": "[encoded data removed]",
      "text/plain": [
       "<Figure size 640x480 with 1 Axes>"
      ]
     },
     "metadata": {},
     "output_type": "display_data"
    }
   ],
   "source": [
    "counts, bin_edges = energy_hist.get_hist()\n",
    "\n",
    "plt.stairs(counts, bin_edges, fill=True)\n",
    "plt.xlabel(energy_hist.xlabel)\n",
    "plt.ylabel(energy_hist.ylabel)\n",
    "plt.yscale(\"log\")\n",
    "plt.show()\n"
   ]
  },
  {
   "cell_type": "code",
   "execution_count": 7,
   "metadata": {},
   "outputs": [
    {
     "data": {
      "image/png": "[encoded data removed]",
      "text/plain": [
       "<Figure size 640x480 with 1 Axes>"
      ]
     },
     "metadata": {},
     "output_type": "display_data"
    }
   ],
   "source": [
    "counts, bin_edges = forces_hist.get_hist()\n",
    "\n",
    "plt.stairs(counts, bin_edges, fill=True)\n",
    "plt.xlabel(forces_hist.xlabel)\n",
    "plt.ylabel(forces_hist.ylabel)\n",
    "plt.yscale(\"log\")\n",
    "plt.show()"
   ]
  },
  {
   "attachments": {},
   "cell_type": "markdown",
   "metadata": {},
   "source": [
    "In both histograms we can see some outliers with fairly high energies / large forces.\n",
    "While a few configurations like this are usually not detrimental to model performance, one should tune the displacement parameters such as to not obtain completely unphysical configurations.\n",
    "\n",
    "The data created here could now be supplied to a model Node and used for training."
   ]
  },
  {
   "cell_type": "code",
   "execution_count": 9,
   "metadata": {},
   "outputs": [],
   "source": [
    "temp_dir.cleanup()"
   ]
  }
 ],
 "metadata": {
  "kernelspec": {
   "display_name": "ips",
   "language": "python",
   "name": "python3"
  },
  "language_info": {
   "codemirror_mode": {
    "name": "ipython",
    "version": 3
   },
   "file_extension": ".py",
   "mimetype": "text/x-python",
   "name": "python",
   "nbconvert_exporter": "python",
   "pygments_lexer": "ipython3",
   "version": "3.10.11"
  },
  "orig_nbformat": 4
 },
 "nbformat": 4,
 "nbformat_minor": 2
}
